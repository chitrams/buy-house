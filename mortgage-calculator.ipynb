{
 "cells": [
  {
   "cell_type": "code",
   "execution_count": 4,
   "metadata": {},
   "outputs": [],
   "source": [
    "# Fn: repayments_fixed\n",
    "def repayments_fixed(principal, interest_percent, loan_term_years):\n",
    "    monthly_interest_rate = interest_percent / 100 / 12\n",
    "    n_payments = loan_term_years * 12\n",
    "\n",
    "    monthly_repayment = (principal * monthly_interest_rate) / (1 - (1 + monthly_interest_rate) ** -n_payments)\n",
    "\n",
    "    return monthly_repayment"
   ]
  },
  {
   "cell_type": "code",
   "execution_count": 5,
   "metadata": {},
   "outputs": [
    {
     "name": "stdout",
     "output_type": "stream",
     "text": [
      "Monthly repayment: $1520.06\n"
     ]
    }
   ],
   "source": [
    "# Example usage\n",
    "principal = 300000\n",
    "rate1 = 4.5\n",
    "loan_term_years = 30\n",
    "\n",
    "monthly_repayment = repayments_fixed(principal, rate1, loan_term_years)\n",
    "print(f\"Monthly repayment: ${monthly_repayment:.2f}\")"
   ]
  }
 ],
 "metadata": {
  "kernelspec": {
   "display_name": "base",
   "language": "python",
   "name": "python3"
  },
  "language_info": {
   "codemirror_mode": {
    "name": "ipython",
    "version": 3
   },
   "file_extension": ".py",
   "mimetype": "text/x-python",
   "name": "python",
   "nbconvert_exporter": "python",
   "pygments_lexer": "ipython3",
   "version": "3.11.7"
  }
 },
 "nbformat": 4,
 "nbformat_minor": 2
}
